{
 "cells": [
  {
   "cell_type": "code",
   "execution_count": 7,
   "id": "197d38a0",
   "metadata": {},
   "outputs": [],
   "source": [
    "from tree_sitter import Language, Parser\n",
    "import sys"
   ]
  },
  {
   "cell_type": "code",
   "execution_count": 8,
   "id": "80ac3793",
   "metadata": {},
   "outputs": [
    {
     "ename": "GitCommandError",
     "evalue": "Cmd('git') failed due to: exit code(128)\n  cmdline: git clone -v https://github.com/holidayextras/example-js-project.git gitRepo/\n  stderr: 'fatal: destination path 'gitRepo' already exists and is not an empty directory.\n'",
     "output_type": "error",
     "traceback": [
      "\u001b[0;31m---------------------------------------------------------------------------\u001b[0m",
      "\u001b[0;31mGitCommandError\u001b[0m                           Traceback (most recent call last)",
      "\u001b[0;32m<ipython-input-8-8187f82e7200>\u001b[0m in \u001b[0;36m<module>\u001b[0;34m\u001b[0m\n\u001b[1;32m      1\u001b[0m \u001b[0;32mfrom\u001b[0m \u001b[0mgit\u001b[0m \u001b[0;32mimport\u001b[0m \u001b[0mRepo\u001b[0m\u001b[0;34m\u001b[0m\u001b[0;34m\u001b[0m\u001b[0m\n\u001b[1;32m      2\u001b[0m \u001b[0;34m\u001b[0m\u001b[0m\n\u001b[0;32m----> 3\u001b[0;31m \u001b[0mRepo\u001b[0m\u001b[0;34m.\u001b[0m\u001b[0mclone_from\u001b[0m\u001b[0;34m(\u001b[0m\u001b[0;34m'https://github.com/holidayextras/example-js-project.git'\u001b[0m\u001b[0;34m,\u001b[0m \u001b[0;34m'gitRepo/'\u001b[0m\u001b[0;34m)\u001b[0m\u001b[0;34m\u001b[0m\u001b[0;34m\u001b[0m\u001b[0m\n\u001b[0m",
      "\u001b[0;32m~/opt/anaconda3/lib/python3.8/site-packages/git/repo/base.py\u001b[0m in \u001b[0;36mclone_from\u001b[0;34m(cls, url, to_path, progress, env, multi_options, **kwargs)\u001b[0m\n\u001b[1;32m   1146\u001b[0m         \u001b[0;32mif\u001b[0m \u001b[0menv\u001b[0m \u001b[0;32mis\u001b[0m \u001b[0;32mnot\u001b[0m \u001b[0;32mNone\u001b[0m\u001b[0;34m:\u001b[0m\u001b[0;34m\u001b[0m\u001b[0;34m\u001b[0m\u001b[0m\n\u001b[1;32m   1147\u001b[0m             \u001b[0mgit\u001b[0m\u001b[0;34m.\u001b[0m\u001b[0mupdate_environment\u001b[0m\u001b[0;34m(\u001b[0m\u001b[0;34m**\u001b[0m\u001b[0menv\u001b[0m\u001b[0;34m)\u001b[0m\u001b[0;34m\u001b[0m\u001b[0;34m\u001b[0m\u001b[0m\n\u001b[0;32m-> 1148\u001b[0;31m         \u001b[0;32mreturn\u001b[0m \u001b[0mcls\u001b[0m\u001b[0;34m.\u001b[0m\u001b[0m_clone\u001b[0m\u001b[0;34m(\u001b[0m\u001b[0mgit\u001b[0m\u001b[0;34m,\u001b[0m \u001b[0murl\u001b[0m\u001b[0;34m,\u001b[0m \u001b[0mto_path\u001b[0m\u001b[0;34m,\u001b[0m \u001b[0mGitCmdObjectDB\u001b[0m\u001b[0;34m,\u001b[0m \u001b[0mprogress\u001b[0m\u001b[0;34m,\u001b[0m \u001b[0mmulti_options\u001b[0m\u001b[0;34m,\u001b[0m \u001b[0;34m**\u001b[0m\u001b[0mkwargs\u001b[0m\u001b[0;34m)\u001b[0m\u001b[0;34m\u001b[0m\u001b[0;34m\u001b[0m\u001b[0m\n\u001b[0m\u001b[1;32m   1149\u001b[0m \u001b[0;34m\u001b[0m\u001b[0m\n\u001b[1;32m   1150\u001b[0m     def archive(self, ostream: Union[TextIO, BinaryIO], treeish: Optional[str] = None,\n",
      "\u001b[0;32m~/opt/anaconda3/lib/python3.8/site-packages/git/repo/base.py\u001b[0m in \u001b[0;36m_clone\u001b[0;34m(cls, git, url, path, odb_default_type, progress, multi_options, **kwargs)\u001b[0m\n\u001b[1;32m   1084\u001b[0m \u001b[0;34m\u001b[0m\u001b[0m\n\u001b[1;32m   1085\u001b[0m             \u001b[0mlog\u001b[0m\u001b[0;34m.\u001b[0m\u001b[0mdebug\u001b[0m\u001b[0;34m(\u001b[0m\u001b[0;34m\"Cmd(%s)'s unused stdout: %s\"\u001b[0m\u001b[0;34m,\u001b[0m \u001b[0mcmdline\u001b[0m\u001b[0;34m,\u001b[0m \u001b[0mstdout\u001b[0m\u001b[0;34m)\u001b[0m\u001b[0;34m\u001b[0m\u001b[0;34m\u001b[0m\u001b[0m\n\u001b[0;32m-> 1086\u001b[0;31m             \u001b[0mfinalize_process\u001b[0m\u001b[0;34m(\u001b[0m\u001b[0mproc\u001b[0m\u001b[0;34m,\u001b[0m \u001b[0mstderr\u001b[0m\u001b[0;34m=\u001b[0m\u001b[0mstderr\u001b[0m\u001b[0;34m)\u001b[0m\u001b[0;34m\u001b[0m\u001b[0;34m\u001b[0m\u001b[0m\n\u001b[0m\u001b[1;32m   1087\u001b[0m \u001b[0;34m\u001b[0m\u001b[0m\n\u001b[1;32m   1088\u001b[0m         \u001b[0;31m# our git command could have a different working dir than our actual\u001b[0m\u001b[0;34m\u001b[0m\u001b[0;34m\u001b[0m\u001b[0;34m\u001b[0m\u001b[0m\n",
      "\u001b[0;32m~/opt/anaconda3/lib/python3.8/site-packages/git/util.py\u001b[0m in \u001b[0;36mfinalize_process\u001b[0;34m(proc, **kwargs)\u001b[0m\n\u001b[1;32m    384\u001b[0m     \u001b[0;34m\"\"\"Wait for the process (clone, fetch, pull or push) and handle its errors accordingly\"\"\"\u001b[0m\u001b[0;34m\u001b[0m\u001b[0;34m\u001b[0m\u001b[0m\n\u001b[1;32m    385\u001b[0m     \u001b[0;31m# TODO: No close proc-streams??\u001b[0m\u001b[0;34m\u001b[0m\u001b[0;34m\u001b[0m\u001b[0;34m\u001b[0m\u001b[0m\n\u001b[0;32m--> 386\u001b[0;31m     \u001b[0mproc\u001b[0m\u001b[0;34m.\u001b[0m\u001b[0mwait\u001b[0m\u001b[0;34m(\u001b[0m\u001b[0;34m**\u001b[0m\u001b[0mkwargs\u001b[0m\u001b[0;34m)\u001b[0m\u001b[0;34m\u001b[0m\u001b[0;34m\u001b[0m\u001b[0m\n\u001b[0m\u001b[1;32m    387\u001b[0m \u001b[0;34m\u001b[0m\u001b[0m\n\u001b[1;32m    388\u001b[0m \u001b[0;34m\u001b[0m\u001b[0m\n",
      "\u001b[0;32m~/opt/anaconda3/lib/python3.8/site-packages/git/cmd.py\u001b[0m in \u001b[0;36mwait\u001b[0;34m(self, stderr)\u001b[0m\n\u001b[1;32m    499\u001b[0m                 \u001b[0merrstr\u001b[0m \u001b[0;34m=\u001b[0m \u001b[0mread_all_from_possibly_closed_stream\u001b[0m\u001b[0;34m(\u001b[0m\u001b[0mp_stderr\u001b[0m\u001b[0;34m)\u001b[0m\u001b[0;34m\u001b[0m\u001b[0;34m\u001b[0m\u001b[0m\n\u001b[1;32m    500\u001b[0m                 \u001b[0mlog\u001b[0m\u001b[0;34m.\u001b[0m\u001b[0mdebug\u001b[0m\u001b[0;34m(\u001b[0m\u001b[0;34m'AutoInterrupt wait stderr: %r'\u001b[0m \u001b[0;34m%\u001b[0m \u001b[0;34m(\u001b[0m\u001b[0merrstr\u001b[0m\u001b[0;34m,\u001b[0m\u001b[0;34m)\u001b[0m\u001b[0;34m)\u001b[0m\u001b[0;34m\u001b[0m\u001b[0;34m\u001b[0m\u001b[0m\n\u001b[0;32m--> 501\u001b[0;31m                 \u001b[0;32mraise\u001b[0m \u001b[0mGitCommandError\u001b[0m\u001b[0;34m(\u001b[0m\u001b[0mremove_password_if_present\u001b[0m\u001b[0;34m(\u001b[0m\u001b[0mself\u001b[0m\u001b[0;34m.\u001b[0m\u001b[0margs\u001b[0m\u001b[0;34m)\u001b[0m\u001b[0;34m,\u001b[0m \u001b[0mstatus\u001b[0m\u001b[0;34m,\u001b[0m \u001b[0merrstr\u001b[0m\u001b[0;34m)\u001b[0m\u001b[0;34m\u001b[0m\u001b[0;34m\u001b[0m\u001b[0m\n\u001b[0m\u001b[1;32m    502\u001b[0m             \u001b[0;32mreturn\u001b[0m \u001b[0mstatus\u001b[0m\u001b[0;34m\u001b[0m\u001b[0;34m\u001b[0m\u001b[0m\n\u001b[1;32m    503\u001b[0m \u001b[0;34m\u001b[0m\u001b[0m\n",
      "\u001b[0;31mGitCommandError\u001b[0m: Cmd('git') failed due to: exit code(128)\n  cmdline: git clone -v https://github.com/holidayextras/example-js-project.git gitRepo/\n  stderr: 'fatal: destination path 'gitRepo' already exists and is not an empty directory.\n'"
     ]
    }
   ],
   "source": [
    "from git import Repo\n",
    "\n",
    "Repo.clone_from('https://github.com/holidayextras/example-js-project.git', 'gitRepo/')"
   ]
  },
  {
   "cell_type": "code",
   "execution_count": null,
   "id": "6269efbc",
   "metadata": {
    "scrolled": false
   },
   "outputs": [],
   "source": [
    "import os\n",
    "from git import Repo\n",
    "from fnmatch import fnmatch\n",
    "\n",
    "file_list = []\n",
    "\n",
    "root = os.getcwd() + '/gitRepo'\n",
    "print(root)\n",
    "pattern = \"*.js\"\n",
    "for path, _, files in os.walk(root):\n",
    "    for file in files:\n",
    "        if fnmatch(file, pattern):\n",
    "            a = 'gitRepo' + (path+'/'+file).split('gitRepo')[1]\n",
    "            print(a)\n",
    "            file_list.append(a)"
   ]
  },
  {
   "cell_type": "code",
   "execution_count": null,
   "id": "28c6103b",
   "metadata": {},
   "outputs": [],
   "source": []
  },
  {
   "cell_type": "code",
   "execution_count": null,
   "id": "20e92a76",
   "metadata": {},
   "outputs": [],
   "source": [
    "Language.build_library(\n",
    "  # Store the library in the `build` directory\n",
    "  'build/my-languages.so',\n",
    "\n",
    "  # Include one or more languages\n",
    "  [\n",
    "    'tree-sitter-go',\n",
    "    'tree-sitter-javascript',\n",
    "    'tree-sitter-python',\n",
    "    'tree-sitter-ruby'\n",
    "  ]\n",
    ")"
   ]
  },
  {
   "cell_type": "code",
   "execution_count": null,
   "id": "29127ef9",
   "metadata": {},
   "outputs": [],
   "source": [
    "GO_LANGUAGE = Language('build/my-languages.so', 'go')\n",
    "JS_LANGUAGE = Language('build/my-languages.so', 'javascript')\n",
    "PY_LANGUAGE = Language('build/my-languages.so', 'python')\n",
    "RB_LANGUAGE = Language('build/my-languages.so', 'ruby')"
   ]
  },
  {
   "cell_type": "code",
   "execution_count": null,
   "id": "fb028af7",
   "metadata": {},
   "outputs": [],
   "source": []
  },
  {
   "cell_type": "code",
   "execution_count": null,
   "id": "fdf81b87",
   "metadata": {},
   "outputs": [],
   "source": [
    "parser = Parser()\n",
    "parser.set_language(RB_LANGUAGE)\n",
    "source_code = ''\n",
    "code_list = []\n",
    "identifier_details = []"
   ]
  },
  {
   "cell_type": "code",
   "execution_count": null,
   "id": "ed92d435",
   "metadata": {},
   "outputs": [],
   "source": [
    "parser = Parser()\n",
    "parser.set_language(PY_LANGUAGE)\n",
    "source_code = ''\n",
    "code_list = []\n",
    "identifier_details = []"
   ]
  },
  {
   "cell_type": "code",
   "execution_count": null,
   "id": "7330c5e0",
   "metadata": {},
   "outputs": [],
   "source": [
    "with open('demo.rb') as f:\n",
    "    lines = f.readlines()\n",
    "    source_code = bytes(''.join(lines), 'utf-8')\n",
    "    code_list = lines"
   ]
  },
  {
   "cell_type": "code",
   "execution_count": null,
   "id": "f187355c",
   "metadata": {},
   "outputs": [],
   "source": [
    "tree = parser.parse(source_code)"
   ]
  },
  {
   "cell_type": "code",
   "execution_count": null,
   "id": "bf35abb0",
   "metadata": {},
   "outputs": [],
   "source": [
    "query = GO_LANGUAGE.query(\"\"\"\n",
    "((identifier) @identifier)\n",
    "\"\"\")\n",
    "captures = query.captures(tree.root_node)\n",
    "print()\n",
    "for c in captures:\n",
    "    print(\"Start\", c[0].start_point, \"End\", c[0].end_point)\n",
    "    node_text = code_list[c[0].start_point[0]][c[0].start_point[1]:c[0].end_point[1]]\n",
    "    print(node_text)\n",
    "    identifier_details.append({\"ID\": node_text, \"Line\": c[0].start_point[0], \n",
    "                               \"Start Column\": c[0].start_point[1], \"End Column\": c[0].end_point[1]})\n",
    "print(identifier_details)"
   ]
  },
  {
   "cell_type": "code",
   "execution_count": null,
   "id": "c0d64baf",
   "metadata": {},
   "outputs": [],
   "source": [
    "with open ('output1.txt', 'w') as f:\n",
    "    for identifier in identifier_details:\n",
    "        a = str(' Identifier: '+identifier['ID']+' Line: '+str(identifier['Line'])+\n",
    "                ' Start Column: '+str(identifier['Start Column'])+ ' End Column: '+str(identifier['End Column'])+'\\n')\n",
    "        f.write(a)"
   ]
  },
  {
   "cell_type": "code",
   "execution_count": 44,
   "id": "e703a14e",
   "metadata": {},
   "outputs": [
    {
     "name": "stdout",
     "output_type": "stream",
     "text": [
      "['False', 'None', 'True', 'and', 'as', 'assert', 'async', 'await', 'break', 'class', 'continue', 'def', 'del', 'elif', 'else', 'except', 'finally', 'for', 'from', 'global', 'if', 'import', 'in', 'is', 'lambda', 'nonlocal', 'not', 'or', 'pass', 'raise', 'return', 'try', 'while', 'with', 'yield']\n"
     ]
    }
   ],
   "source": [
    "import keyword\n",
    "s = keyword.kwlist\n",
    "print(s)"
   ]
  },
  {
   "cell_type": "code",
   "execution_count": 57,
   "id": "c5e59647",
   "metadata": {},
   "outputs": [
    {
     "name": "stdout",
     "output_type": "stream",
     "text": [
      "findPositiveNumbersAndBits  Excessive words\n",
      "HTMLEditorKit Capital Error\n",
      "HTMLEditorKit  Excessive words\n",
      "pagecounter Capital Error\n",
      "pagecounter  not a dictionary word\n",
      "pagecounter Less than 2 words\n",
      "__foo  consecutive underscore\n",
      "__foo  not a dictionary word\n",
      "__foo Less than 2 words\n",
      "__foo Leading and Trailing underscore\n",
      "__foo Short identifier name\n",
      "_foo_  not a dictionary word\n",
      "_foo_ Less than 2 words\n",
      "_foo_ Leading and Trailing underscore\n",
      "_foo_ Short identifier name\n",
      "pagecountKit  not a dictionary word\n",
      "damn_it_dude_yeah_no  Excessive words\n",
      "print Capital Error\n",
      "print Less than 2 words\n",
      "print Short identifier name\n",
      "cd Capital Error\n",
      "cd  not a dictionary word\n",
      "cd Less than 2 words\n",
      "cd Short identifier name\n",
      "Forty_TWO Naming convention anomaly\n",
      "Forty_TWO No Numbers\n",
      "Ceylone  not a dictionary word\n",
      "Ceylone Less than 2 words\n",
      "Ceylone Short identifier name\n",
      "intCount No Hungarian notation\n",
      "lCount No Hungarian notation\n",
      "lCount Short identifier name\n",
      "i_number No Hungarian notation\n",
      "i_count_variable No Hungarian notation\n",
      "textFilesForNoobs  not a dictionary word\n",
      "TextFilesForNoobs  not a dictionary word\n",
      "HTMLEditorKit Capital Error\n",
      "HTMLEditorKit  Excessive words\n",
      "FOO_bar Naming convention anomaly\n",
      "FOO_bar  not a dictionary word\n",
      "FOO_bar Short identifier name\n",
      "module Capital Error\n",
      "module Less than 2 words\n",
      "module Short identifier name\n",
      "strlen Capital Error\n",
      "strlen  not a dictionary word\n",
      "strlen Less than 2 words\n",
      "strlen Short identifier name\n"
     ]
    }
   ],
   "source": [
    "import re\n",
    "import enchant\n",
    "import numpy as np\n",
    "l=['findPositiveNumbersAndBits','HTMLEditorKit', 'pagecounter', '__foo', \"_foo_\", 'pagecountKit', \"damn_it_dude_yeah_no\", \n",
    "  'print', 'cd', 'Forty_TWO', 'Ceylone', 'intCount','lCount','i_number', 'i_count_variable','textFilesForNoobs','TextFilesForNoobs','HTMLEditorKit','FOO_bar', \"module\",\"strlen\"]\n",
    "\n",
    "for name in l:\n",
    "#     res_list = [s for s in re.split(\"([A-Z][^A-Z]*)\", name) if s]\n",
    "#     res_list2= [s for s in re.split(\"_\", name) if s]\n",
    "    \n",
    "    if '_' in name:\n",
    "        res_list=[s for s in re.split(\"_\", name) if s]\n",
    "    else:\n",
    "        res_list=[s for s in re.split(\"([A-Z][^A-Z]*)\", name) if s]\n",
    "    \n",
    "    #capitalization error\n",
    "    if '_' not in name and (re.search(r'^[a-z0-9_]*[A-Z]{2,}[a-z0-9_]*', name) or name.islower()):\n",
    "      print(name,\"Capital Error\")\n",
    "    else:\n",
    "        all_upper=[x.upper() for x in res_list]\n",
    "        all_lower=[x.lower() for x in res_list]\n",
    "        if res_list!=all_upper and res_list!=all_lower and '_' in name:\n",
    "            print(name, \"Naming convention anomaly\")\n",
    "        \n",
    "    # check for consecutive underscores\n",
    "    for i in range(len(name)-1):\n",
    "        if name[i]=='_' and name[i+1]=='_':\n",
    "            print(name, \" consecutive underscore\")\n",
    "            break\n",
    "    # check against dictionary words\n",
    "    \n",
    "    d = enchant.Dict(\"en_US\")\n",
    "    if (d.check(name.lower()) or np.prod([d.check(x.lower()) for x in res_list])):\n",
    "        pass\n",
    "    else:\n",
    "        print(name,' not a dictionary word')\n",
    "    \n",
    "    # check for excessive words\n",
    "    if len(res_list)>4:\n",
    "        print(name, \" Excessive words\")\n",
    "    elif len(res_list)<2:\n",
    "        print(name, \"Less than 2 words\")\n",
    "    \n",
    "    #Leading and Trailing underscore\n",
    "    if name[0]=='_' or name[len(name)-1]=='_':\n",
    "        print(name, \"Leading and Trailing underscore\")\n",
    "    \n",
    "    #identifier encoding\n",
    "    typePrefixes=['int', 'float','char', 'byte', 'long', 'arr', 'str','byte','bool','b','i', 'f','c','l','s']\n",
    "   \n",
    "    if any(item in typePrefixes for item in res_list):\n",
    "        print(name, \"No Hungarian notation\")\n",
    "        \n",
    "    #Naming convention anomaly\n",
    "    \n",
    "            \n",
    "    #Less than 8 characters\n",
    "    if name not in ['c', 'd', 'e', 'g', 'in','i', 'out', 'inOut','j','k','m','n','o','t','x','y','z']:\n",
    "        if len(name)<8:\n",
    "            print(name, \"Short identifier name\")\n",
    "            \n",
    "    #No numbers\n",
    "    listOfnames=[\"one\",\"two\",\"three\",\"four\",\"five\",\"six\",\"seven\",\"eight\",\"nine\", \"ten\", \n",
    "                 \"eleven\", \"twelve\", \"thirteen\", \"fourteen\", \"fifteen\", \"sixteen\", \"seventeen\", \n",
    "                 \"eighteen\", \"nineteen\", \"twenty\", \"thirty\", \"forty\", \"fifty\",\"sixty\", \"seventy\",\n",
    "                 \"eighty\",\"ninety\", \"hundred\", \"thousand\"]\n",
    "    lowName = name.lower()\n",
    "    \n",
    "   if '_' in lowName:\n",
    "            res_list=[s for s in re.split(\"_\", lowName) if s]\n",
    "    else:\n",
    "            res_list=[s for s in re.split(\"([A-Z][^A-Z]*)\", lowName) if s]\n",
    "    if all(item in listOfnames for item in res_list):\n",
    "        print(name, \"No Numbers\")\n",
    "        break\n",
    "    \n",
    "        "
   ]
  },
  {
   "cell_type": "code",
   "execution_count": null,
   "id": "078eff63",
   "metadata": {},
   "outputs": [],
   "source": [
    "import re\n",
    " \n",
    "# Initialising string\n",
    "ini_str = 'geeksForGeeks'\n",
    " \n",
    "# Printing Initial string\n",
    "print (\"Initial String\", ini_str)\n",
    " \n",
    "# Splitting on UpperCase using re\n",
    "res_list = [s for s in re.split(\"([A-Z][^A-Z]*)\", ini_str) if s]\n",
    " \n",
    "# Printing result\n",
    "print(\"Resultant prefix\", str(res_list))"
   ]
  },
  {
   "cell_type": "code",
   "execution_count": null,
   "id": "103c0758",
   "metadata": {},
   "outputs": [],
   "source": [
    "if 'q' not in 'yagaa':\n",
    "    print(\"xxx\")"
   ]
  },
  {
   "cell_type": "code",
   "execution_count": null,
   "id": "b4fdbf7f",
   "metadata": {},
   "outputs": [],
   "source": [
    "def is_camel_case(s):\n",
    "  if s != s.lower() and s != s.upper() and \"_\" not in s :\n",
    "      return True\n",
    "  return False\n",
    "\n",
    "\n",
    "\n",
    "tests = [\n",
    "\"camel\",\n",
    "\"camelCase\",\n",
    "\"CamelCase\",\n",
    "\"CAMELCASE\",\n",
    "\"camelcase\",\n",
    "\"Camelcase\",\n",
    "\"Case\",\n",
    "\"camel_case\",\n",
    "    'findPositiveNumbersAndBits'\n",
    "]\n",
    "\n",
    "for test in tests:\n",
    "   print(test, is_camel_case(test))"
   ]
  },
  {
   "cell_type": "code",
   "execution_count": null,
   "id": "2a23ba19",
   "metadata": {},
   "outputs": [],
   "source": [
    "a=[\"five\",\"six\",\"thirty\",\"forty\",\"hundred\"]\n",
    "b=[\"hundred\", \"forty\"]\n",
    "if all(item in a for item in b):\n",
    "            print(name, \"No Numbers\")"
   ]
  },
  {
   "cell_type": "code",
   "execution_count": null,
   "id": "99eab771",
   "metadata": {},
   "outputs": [],
   "source": [
    "name"
   ]
  },
  {
   "cell_type": "code",
   "execution_count": null,
   "id": "81fc103e",
   "metadata": {},
   "outputs": [],
   "source": []
  },
  {
   "cell_type": "code",
   "execution_count": null,
   "id": "2fb1434d",
   "metadata": {},
   "outputs": [],
   "source": [
    "print(camelCase('hiHelloHow'))"
   ]
  },
  {
   "cell_type": "code",
   "execution_count": null,
   "id": "c9f6427f",
   "metadata": {},
   "outputs": [],
   "source": [
    "t='hiHello'\n",
    "camelize(t)[0].upper()"
   ]
  },
  {
   "cell_type": "code",
   "execution_count": null,
   "id": "57e728b8",
   "metadata": {},
   "outputs": [],
   "source": [
    "pip install PyPI"
   ]
  },
  {
   "cell_type": "code",
   "execution_count": null,
   "id": "7fd57083",
   "metadata": {},
   "outputs": [],
   "source": [
    "pip install Inflection"
   ]
  },
  {
   "cell_type": "code",
   "execution_count": null,
   "id": "5945eac5",
   "metadata": {},
   "outputs": [],
   "source": [
    "from inflection import camelize"
   ]
  },
  {
   "cell_type": "code",
   "execution_count": null,
   "id": "8b87fd5a",
   "metadata": {},
   "outputs": [],
   "source": [
    "camelize(\"HTMLHello\")"
   ]
  },
  {
   "cell_type": "code",
   "execution_count": null,
   "id": "377c9102",
   "metadata": {},
   "outputs": [],
   "source": [
    "Inflection.camelize(\"abc_efg\")"
   ]
  },
  {
   "cell_type": "code",
   "execution_count": null,
   "id": "b2ac2756",
   "metadata": {},
   "outputs": [],
   "source": [
    "import numpy as np\n",
    "import enchant \n",
    "o=[True, True, True]\n",
    "np.prod(o)"
   ]
  },
  {
   "cell_type": "code",
   "execution_count": null,
   "id": "9486c230",
   "metadata": {},
   "outputs": [],
   "source": [
    "d = enchant.Dict(\"en_US\")\n",
    "if (d.check('hi') or np.prod([True for x in o if d.check(x)]):\n",
    "    print('In dict')"
   ]
  },
  {
   "cell_type": "code",
   "execution_count": null,
   "id": "d0c5258e",
   "metadata": {},
   "outputs": [],
   "source": [
    "[1 for x in o if 1==1]"
   ]
  },
  {
   "cell_type": "code",
   "execution_count": null,
   "id": "33bfb5ce",
   "metadata": {},
   "outputs": [],
   "source": [
    "pip install pyenchant"
   ]
  },
  {
   "cell_type": "code",
   "execution_count": null,
   "id": "e31b7122",
   "metadata": {},
   "outputs": [],
   "source": [
    "import enchant from pyenchant"
   ]
  },
  {
   "cell_type": "code",
   "execution_count": null,
   "id": "9935eff9",
   "metadata": {},
   "outputs": [],
   "source": [
    "brew install enchant"
   ]
  },
  {
   "cell_type": "code",
   "execution_count": null,
   "id": "ca7c35bd",
   "metadata": {},
   "outputs": [],
   "source": [
    "pip install enchant"
   ]
  },
  {
   "cell_type": "code",
   "execution_count": null,
   "id": "ef78cdcb",
   "metadata": {},
   "outputs": [],
   "source": [
    "from nltk.corpus import words\n",
    "\"would\" in words.words()"
   ]
  },
  {
   "cell_type": "code",
   "execution_count": null,
   "id": "8ef4a3f5",
   "metadata": {},
   "outputs": [],
   "source": [
    "pip show pyenchant"
   ]
  },
  {
   "cell_type": "code",
   "execution_count": null,
   "id": "a7cdb9c8",
   "metadata": {},
   "outputs": [],
   "source": [
    "pip install pyenchant==2.0.0"
   ]
  },
  {
   "cell_type": "code",
   "execution_count": 2,
   "id": "c95d947c",
   "metadata": {},
   "outputs": [],
   "source": [
    "import enchant\n",
    "import numpy as np"
   ]
  },
  {
   "cell_type": "code",
   "execution_count": 38,
   "id": "05ee4f8a",
   "metadata": {},
   "outputs": [
    {
     "name": "stdout",
     "output_type": "stream",
     "text": [
      "no\n"
     ]
    }
   ],
   "source": [
    "name=[\"hploijd\"]\n",
    "o=[\"hi\",\"hello\",\"how\",\"xD\"]\n",
    "d = enchant.Dict(\"en_US\")\n",
    "if (d.check('plioobh') or np.prod([d.check(x) for x in [\"xD\",\"Hi\",\"hello\"]])):\n",
    "    print('In dict')\n",
    "else:\n",
    "    print('no')"
   ]
  },
  {
   "cell_type": "code",
   "execution_count": 37,
   "id": "af129ae1",
   "metadata": {},
   "outputs": [
    {
     "data": {
      "text/plain": [
       "0"
      ]
     },
     "execution_count": 37,
     "metadata": {},
     "output_type": "execute_result"
    }
   ],
   "source": [
    "np.prod([d.check(x) for x in [\"xD\",\"Hi\",\"hello\"]])"
   ]
  },
  {
   "cell_type": "code",
   "execution_count": 63,
   "id": "d650a54a",
   "metadata": {},
   "outputs": [
    {
     "name": "stdout",
     "output_type": "stream",
     "text": [
      "yes\n"
     ]
    }
   ],
   "source": [
    "js_key=['abstract', 'arguments','await','boolean',\n",
    "'break', 'byte', 'case', 'catch',\n",
    "'char', 'class', 'const', 'continue',\n",
    "'debugger', 'default', 'delete', 'do',\n",
    "'double','else', 'enum','eval', \n",
    "'export', 'extends', 'false', 'final',\n",
    "'finally', 'float', 'for', 'function', \n",
    "'goto', 'if', 'implements', 'import',\n",
    "'in', 'instanceof', 'int', 'interface',\n",
    "'let', 'long', 'native', 'new',\n",
    "'null', 'package','private', 'protected',\n",
    "'public', 'return', 'short', 'static',\n",
    "'super', 'switch','synchronized','this',\n",
    "'throw', 'throws','transient','true',\n",
    "'try','typeof','var','void',\n",
    "'volatile', 'while', 'with','yield', \n",
    "'abstract', 'boolean', 'byte', 'char', 'double', 'final', 'float', 'goto', \n",
    "'int','long', 'native', 'short', 'synchronized', 'throws', 'transient', 'volatile',\n",
    "'Array','Date', 'eval', 'function',\n",
    "'hasOwnProperty','Infinity', 'isFinite', 'isNaN',\n",
    "'isPrototypeOf','length', 'Math', 'NaN',\n",
    "'name','Number', 'Object', 'prototype',\n",
    "'String', 'toString','undefined', 'valueOf', 'NaN']\n",
    "html_elements=['alert', 'all', 'anchor', 'anchors', 'area', 'assign', 'blur','button',\n",
    "'checkbox','clearInterval','clearTimeout','clientInformation','close',\n",
    "'closed','confirm', 'constructor', 'crypto', 'decodeURI','decodeURIComponent',\n",
    "'defaultStatus','document','element','elements','embed','embeds','encodeURI','encodeURIComponent','escape','event',\n",
    "'fileUpload','focus','form','forms','frame','innerHeight','innerWidth','layer','layers','link',\n",
    "'location','mimeTypes','navigate','navigator','frames','frameRate','hidden','history',\n",
    "'image','images','offscreenBuffering','open','opener','option','outerHeight',\n",
    "'outerWidth','packages','pageXOffset','pageYOffset','parent','parseFloat',\n",
    "'parseInt','password','pkcs11','plugin','prompt','propertyIsEnum','radio','reset',\n",
    "'screenX','screenY','scroll','secure','select','self','setInterval','setTimeout',\n",
    "'status','submit','taint','text','textarea','top','unescape','untaint','window',\n",
    "'onblur','onclick','onerror','onfocus',\n",
    "'onkeydown', 'onkeypress','onkeyup','onmouseover',\n",
    "'onload','onmouseup','onmousedown','onsubmit']\n",
    "function_properties=['eval','parseInt','parseFloat','isNaN','isFinite','decodeURI',\n",
    "'decodeURIComponent','encodeURI','encodeURIComponent',\n",
    "'escape','unescape']\n",
    "string_functions=[ 'length',   'constructor',   'anchor',   'big',   'blink',   'bold',   'charAt',   'charCodeAt', \n",
    "                  'codePointAt',   'concat',   'endsWith',   'fontcolor',   'fontsize',   'fixed',   'includes',  \n",
    "                  'indexOf',   'italics',   'lastIndexOf',   'link',   'localeCompare',   'match',   'normalize', \n",
    "                  'padEnd',   'padStart',   'repeat',   'replace',   'search',   'slice',   'small',   'split',  \n",
    "                  'strike',   'sub',   'substr',   'substring',   'sup',   'startsWith',   'toString',   'trim',  \n",
    "                  'trimLeft',   'trimRight',   'toLowerCase',   'toUpperCase',   'valueOf',   'toLocaleLowerCase',  \n",
    "                  'toLocaleUpperCase',   'trimStart',   'trimEnd' ] \n",
    "math_functions=[ 'abs',   'acos',   'acosh',   'asin',   'asinh',   'atan',   'atanh',   'atan2', \n",
    "                'ceil',   'cbrt',   'expm1',   'clz32',   'cos',   'cosh',   'exp',   'floor',   'fround',  \n",
    "                'hypot',   'imul',   'log',   'log1p',   'log2',   'log10',   'max',   'min',   'pow',   'random', \n",
    "                'round',   'sign',   'sin',   'sinh',   'sqrt',   'tan',   'tanh',   'trunc',   'E',   'LN10', \n",
    "                'LN2',   'LOG10E',   'LOG2E',   'PI',   'SQRT1_2',   'SQRT2' ] \n",
    "number_functions=[ 'constructor',\n",
    "  'toExponential',\n",
    "  'toFixed',\n",
    "  'toPrecision',\n",
    "  'toString',\n",
    "  'valueOf',\n",
    "  'toLocaleString' ]\n",
    "date_functions=[ 'constructor',   'toString',   'toDateString',   'toTimeString',   'toISOString',   'toUTCString',\n",
    "                'toGMTString',   'getDate',   'setDate',   'getDay',   'getFullYear',   'setFullYear',   'getHours', \n",
    "                'setHours',   'getMilliseconds',   'setMilliseconds',   'getMinutes',   'setMinutes',   'getMonth',\n",
    "                'setMonth',   'getSeconds',   'setSeconds',   'getTime',   'setTime',   'getTimezoneOffset',   \n",
    "                'getUTCDate',   'setUTCDate',   'getUTCDay',   'getUTCFullYear',   'setUTCFullYear',   'getUTCHours',\n",
    "                'setUTCHours',   'getUTCMilliseconds',   'setUTCMilliseconds',   'getUTCMinutes',   'setUTCMinutes', \n",
    "                'getUTCMonth',   'setUTCMonth',   'getUTCSeconds',   'setUTCSeconds',   'valueOf',   'getYear',  \n",
    "                'setYear',   'toJSON',   'toLocaleString',   'toLocaleDateString',   'toLocaleTimeString' ] \n",
    "error_functions=[ 'constructor', 'name', 'message', 'toString' ]\n",
    "array_functions=[ 'length',   'constructor',   'concat',   'find',   \n",
    "'findIndex',   'pop',   'push',   'shift',   'unshift',   'slice',   'splice',   'includes',   'indexOf',   \n",
    "'keys',   'entries',   'forEach',   'filter',   'map',   'every', \n",
    "  'some',   'reduce',   'reduceRight',   'toString',   'toLocaleString',   'join', \n",
    "  'reverse',   'sort',   'lastIndexOf',   'copyWithin',   'fill',   'values' ] \n",
    "js_list=js_key+html_elements+function_properties+string_functions+math_functions+number_functions+date_functions+error_functions+array_functions\n",
    "js_list=list(set(js_list))\n",
    "\n"
   ]
  },
  {
   "cell_type": "code",
   "execution_count": 83,
   "id": "e7ee674d",
   "metadata": {},
   "outputs": [
    {
     "name": "stdout",
     "output_type": "stream",
     "text": [
      "['ArithmeticError', 'AssertionError', 'AttributeError', 'BaseException', 'BlockingIOError', 'BrokenPipeError', 'BufferError', 'BytesWarning', 'ChildProcessError', 'ConnectionAbortedError', 'ConnectionError', 'ConnectionRefusedError', 'ConnectionResetError', 'DeprecationWarning', 'EOFError', 'Ellipsis', 'EnvironmentError', 'Exception', 'False', 'FileExistsError', 'FileNotFoundError', 'FloatingPointError', 'FutureWarning', 'GeneratorExit', 'IOError', 'ImportError', 'ImportWarning', 'IndentationError', 'IndexError', 'InterruptedError', 'IsADirectoryError', 'KeyError', 'KeyboardInterrupt', 'LookupError', 'MemoryError', 'ModuleNotFoundError', 'NameError', 'None', 'NotADirectoryError', 'NotImplemented', 'NotImplementedError', 'OSError', 'OverflowError', 'PendingDeprecationWarning', 'PermissionError', 'ProcessLookupError', 'RecursionError', 'ReferenceError', 'ResourceWarning', 'RuntimeError', 'RuntimeWarning', 'StopAsyncIteration', 'StopIteration', 'SyntaxError', 'SyntaxWarning', 'SystemError', 'SystemExit', 'TabError', 'TimeoutError', 'True', 'TypeError', 'UnboundLocalError', 'UnicodeDecodeError', 'UnicodeEncodeError', 'UnicodeError', 'UnicodeTranslateError', 'UnicodeWarning', 'UserWarning', 'ValueError', 'Warning', 'ZeroDivisionError', '__IPYTHON__', '__build_class__', '__debug__', '__doc__', '__import__', '__loader__', '__name__', '__package__', '__spec__', 'abs', 'all', 'any', 'ascii', 'bin', 'bool', 'breakpoint', 'bytearray', 'bytes', 'callable', 'chr', 'classmethod', 'compile', 'complex', 'copyright', 'credits', 'delattr', 'dict', 'dir', 'display', 'divmod', 'enumerate', 'eval', 'exec', 'filter', 'float', 'format', 'frozenset', 'get_ipython', 'getattr', 'globals', 'hasattr', 'hash', 'help', 'hex', 'id', 'input', 'int', 'isinstance', 'issubclass', 'iter', 'len', 'license', 'list', 'locals', 'map', 'max', 'memoryview', 'min', 'next', 'object', 'oct', 'open', 'ord', 'pow', 'print', 'property', 'range', 'repr', 'reversed', 'round', 'set', 'setattr', 'slice', 'sorted', 'staticmethod', 'str', 'sum', 'super', 'tuple', 'type', 'vars', 'zip']\n",
      "['ArithmeticError', 'AssertionError', 'AttributeError', 'BaseException', 'BlockingIOError', 'BrokenPipeError', 'BufferError', 'BytesWarning', 'ChildProcessError', 'ConnectionAbortedError', 'ConnectionError', 'ConnectionRefusedError', 'ConnectionResetError', 'DeprecationWarning', 'EOFError', 'Ellipsis', 'EnvironmentError', 'Exception', 'False', 'FileExistsError', 'FileNotFoundError', 'FloatingPointError', 'FutureWarning', 'GeneratorExit', 'IOError', 'ImportError', 'ImportWarning', 'IndentationError', 'IndexError', 'InterruptedError', 'IsADirectoryError', 'KeyError', 'KeyboardInterrupt', 'LookupError', 'MemoryError', 'ModuleNotFoundError', 'NameError', 'None', 'NotADirectoryError', 'NotImplemented', 'NotImplementedError', 'OSError', 'OverflowError', 'PendingDeprecationWarning', 'PermissionError', 'ProcessLookupError', 'RecursionError', 'ReferenceError', 'ResourceWarning', 'RuntimeError', 'RuntimeWarning', 'StopAsyncIteration', 'StopIteration', 'SyntaxError', 'SyntaxWarning', 'SystemError', 'SystemExit', 'TabError', 'TimeoutError', 'True', 'TypeError', 'UnboundLocalError', 'UnicodeDecodeError', 'UnicodeEncodeError', 'UnicodeError', 'UnicodeTranslateError', 'UnicodeWarning', 'UserWarning', 'ValueError', 'Warning', 'ZeroDivisionError', '__IPYTHON__', '__build_class__', '__debug__', '__doc__', '__import__', '__loader__', '__name__', '__package__', '__spec__', 'abs', 'all', 'any', 'ascii', 'bin', 'bool', 'breakpoint', 'bytearray', 'bytes', 'callable', 'chr', 'classmethod', 'compile', 'complex', 'copyright', 'credits', 'delattr', 'dict', 'dir', 'display', 'divmod', 'enumerate', 'eval', 'exec', 'filter', 'float', 'format', 'frozenset', 'get_ipython', 'getattr', 'globals', 'hasattr', 'hash', 'help', 'hex', 'id', 'input', 'int', 'isinstance', 'issubclass', 'iter', 'len', 'license', 'list', 'locals', 'map', 'max', 'memoryview', 'min', 'next', 'object', 'oct', 'open', 'ord', 'pow', 'print', 'property', 'range', 'repr', 'reversed', 'round', 'set', 'setattr', 'slice', 'sorted', 'staticmethod', 'str', 'sum', 'super', 'tuple', 'type', 'vars', 'zip']\n",
      "0\n"
     ]
    }
   ],
   "source": [
    "import builtins\n",
    "import types\n",
    "import keyword\n",
    "py_keywords=keyword.kwlist\n",
    "py_builtin_functions = [name for name, obj in vars(builtins).items() \n",
    "                          if isinstance(obj, types.BuiltinFunctionType)]\n",
    "py_builtin_objects=[e for e in __builtins__.__dict__.keys()]\n",
    "py_builtin_objects.sort()\n",
    "print(py_builtin_objects)\n",
    "# print('here', py_builtin_objects+py_builtin_functions+py_keywords)\n",
    "py_list=py_builtin_objects+py_builtin_functions+py_keywords\n",
    "c=0\n",
    "print(dir(__builtins__))\n",
    "for x in (py_builtin_objects):\n",
    "    if x not in dir(__builtins__):\n",
    "        print(\"nope\")\n",
    "        c=1\n",
    "print(c)"
   ]
  },
  {
   "cell_type": "code",
   "execution_count": 58,
   "id": "b31b4bf8",
   "metadata": {},
   "outputs": [],
   "source": [
    "ruby_keywords=['__ENCODING__','__LINE__' ,'__FILE__','BEGIN','END'\n",
    ",'alias','and' ,'begin','break','case','class','def','defined?','do','else','elsif','end','ensure','false','for','if','in','module',\n",
    "               'next','nil' ,'not', 'or', 'redo'\n",
    ",'rescue','retry','return','self' ,'super' ,'then','true','undef','unless','until','when','while' ,'yield']\n",
    "ruby_inbuilt_functions=['Array','Float','Integer','String','at_exit','autoload','binding','caller','catch','chop','chop!','chomp',\n",
    "                        'chomp!','eval','exec','exit','exit!','fail','fork','format','gets','global_variables','gsub','gsub!',\n",
    "                        'iterator?','lambda','load','local_variables','loop','open','p','print','printf','proc','putc','puts','raise',\n",
    "                        'rand','readline','readlines','require','select','sleep','split','sprintf','srand','sub','sub!','syscall','system',\n",
    "                        'test','trace_var','trap','untrace_var']\n",
    "ruby_list=ruby_keywords+ruby_inbuilt_functions\n"
   ]
  },
  {
   "cell_type": "code",
   "execution_count": 59,
   "id": "c459b508",
   "metadata": {},
   "outputs": [],
   "source": [
    "go_keywords=[\n",
    "    'break', 'default', 'func', 'interface', 'select', 'case', 'defer', 'go', 'map', 'struct', 'chan', \n",
    "    'else', 'goto', 'package', 'switch', 'const', 'fallthrough', 'if', 'range', 'type', 'continue', 'for', \n",
    "    'import', 'return', 'var', 'int','float',\"string\",\"error\",\"byte\",\"bool\"]\n",
    "\n",
    "go_built_in=[\"append\", \"cap\", \"close\", \"complex\",\"copy\", \"delete\", \"imag\", \"len\", \"make\", \"new\",\"panic\",\n",
    "             \"print\",\"println\",\"real\", \"recover\"] \n",
    "go_list=go_keywords+go_built_in"
   ]
  },
  {
   "cell_type": "code",
   "execution_count": 87,
   "id": "97848851",
   "metadata": {},
   "outputs": [
    {
     "name": "stdout",
     "output_type": "stream",
     "text": [
      "yes\n",
      "['ArithmeticError', 'AssertionError', 'AttributeError', 'BaseException', 'BlockingIOError', 'BrokenPipeError', 'BufferError', 'BytesWarning', 'ChildProcessError', 'ConnectionAbortedError', 'ConnectionError', 'ConnectionRefusedError', 'ConnectionResetError', 'DeprecationWarning', 'EOFError', 'Ellipsis', 'EnvironmentError', 'Exception', 'False', 'FileExistsError', 'FileNotFoundError', 'FloatingPointError', 'FutureWarning', 'GeneratorExit', 'IOError', 'ImportError', 'ImportWarning', 'IndentationError', 'IndexError', 'InterruptedError', 'IsADirectoryError', 'KeyError', 'KeyboardInterrupt', 'LookupError', 'MemoryError', 'ModuleNotFoundError', 'NameError', 'None', 'NotADirectoryError', 'NotImplemented', 'NotImplementedError', 'OSError', 'OverflowError', 'PendingDeprecationWarning', 'PermissionError', 'ProcessLookupError', 'RecursionError', 'ReferenceError', 'ResourceWarning', 'RuntimeError', 'RuntimeWarning', 'StopAsyncIteration', 'StopIteration', 'SyntaxError', 'SyntaxWarning', 'SystemError', 'SystemExit', 'TabError', 'TimeoutError', 'True', 'TypeError', 'UnboundLocalError', 'UnicodeDecodeError', 'UnicodeEncodeError', 'UnicodeError', 'UnicodeTranslateError', 'UnicodeWarning', 'UserWarning', 'ValueError', 'Warning', 'ZeroDivisionError', '__IPYTHON__', '__build_class__', '__debug__', '__doc__', '__import__', '__loader__', '__name__', '__package__', '__spec__', 'abs', 'all', 'any', 'ascii', 'bin', 'bool', 'breakpoint', 'bytearray', 'bytes', 'callable', 'chr', 'classmethod', 'compile', 'complex', 'copyright', 'credits', 'delattr', 'dict', 'dir', 'display', 'divmod', 'enumerate', 'eval', 'exec', 'filter', 'float', 'format', 'frozenset', 'get_ipython', 'getattr', 'globals', 'hasattr', 'hash', 'help', 'hex', 'id', 'input', 'int', 'isinstance', 'issubclass', 'iter', 'len', 'license', 'list', 'locals', 'map', 'max', 'memoryview', 'min', 'next', 'object', 'oct', 'open', 'ord', 'pow', 'print', 'property', 'range', 'repr', 'reversed', 'round', 'set', 'setattr', 'slice', 'sorted', 'staticmethod', 'str', 'sum', 'super', 'tuple', 'type', 'vars', 'zip', '__build_class__', '__import__', 'abs', 'all', 'any', 'ascii', 'bin', 'breakpoint', 'callable', 'chr', 'compile', 'delattr', 'dir', 'divmod', 'eval', 'exec', 'format', 'getattr', 'globals', 'hasattr', 'hash', 'hex', 'id', 'isinstance', 'issubclass', 'iter', 'len', 'locals', 'max', 'min', 'next', 'oct', 'ord', 'pow', 'print', 'repr', 'round', 'setattr', 'sorted', 'sum', 'vars', 'open', 'False', 'None', 'True', 'and', 'as', 'assert', 'async', 'await', 'break', 'class', 'continue', 'def', 'del', 'elif', 'else', 'except', 'finally', 'for', 'from', 'global', 'if', 'import', 'in', 'is', 'lambda', 'nonlocal', 'not', 'or', 'pass', 'raise', 'return', 'try', 'while', 'with', 'yield']\n"
     ]
    }
   ],
   "source": [
    "import builtins\n",
    "import types\n",
    "import keyword\n",
    "py_keywords=keyword.kwlist\n",
    "py_builtin_functions = [name for name, obj in vars(builtins).items()\n",
    "                          if isinstance(obj, types.BuiltinFunctionType)]\n",
    "py_builtin_objects=dir(__builtins__)\n",
    "\n",
    "python_list=py_builtin_objects+py_builtin_functions+py_keywords\n",
    "if 'int'in python_list:\n",
    "    print('yes')\n",
    "print(python_list)"
   ]
  },
  {
   "cell_type": "code",
   "execution_count": null,
   "id": "9beaaac8",
   "metadata": {},
   "outputs": [],
   "source": []
  }
 ],
 "metadata": {
  "kernelspec": {
   "display_name": "Python 3",
   "language": "python",
   "name": "python3"
  },
  "language_info": {
   "codemirror_mode": {
    "name": "ipython",
    "version": 3
   },
   "file_extension": ".py",
   "mimetype": "text/x-python",
   "name": "python",
   "nbconvert_exporter": "python",
   "pygments_lexer": "ipython3",
   "version": "3.8.8"
  }
 },
 "nbformat": 4,
 "nbformat_minor": 5
}
